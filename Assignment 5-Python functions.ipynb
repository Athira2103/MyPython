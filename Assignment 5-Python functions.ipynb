{
 "cells": [
  {
   "cell_type": "markdown",
   "id": "091dfacf",
   "metadata": {},
   "source": [
    "1.  Write a Python program to create a class representing a Circle. Include methods to calculate its area and perimeter."
   ]
  },
  {
   "cell_type": "code",
   "execution_count": 8,
   "id": "d180cc58",
   "metadata": {},
   "outputs": [
    {
     "name": "stdout",
     "output_type": "stream",
     "text": [
      "enter the radius 5\n",
      "area of circle is 78.53981633974483\n",
      "perimeter of circle is 31.41592653589793\n"
     ]
    }
   ],
   "source": [
    "from math import pi\n",
    "class Circle:\n",
    "        def area(self,r):\n",
    "            ar=pi*r**2\n",
    "            print(\"area of circle is \"+str(ar))\n",
    "        def perimeter(self,r):\n",
    "            pr=2*pi*r\n",
    "            print(\"perimeter of circle is \"+str(pr))\n",
    "cr=Circle()\n",
    "rad=int(input(\"enter the radius \"))\n",
    "cr.area(rad)\n",
    "cr.perimeter(rad)\n"
   ]
  },
  {
   "cell_type": "markdown",
   "id": "c952a7cc",
   "metadata": {},
   "source": [
    "2. Write a Python program to create a calculator class. Include methods for basic arithmetic operations."
   ]
  },
  {
   "cell_type": "code",
   "execution_count": 13,
   "id": "ff06282f",
   "metadata": {},
   "outputs": [
    {
     "name": "stdout",
     "output_type": "stream",
     "text": [
      "enter 1st input55\n",
      "enter 2nd input22\n",
      "enter the operator  +\n",
      "The sum is 77\n"
     ]
    }
   ],
   "source": [
    "class Calculator:\n",
    "    def add(self,a,b):\n",
    "        print(\"The sum is \"+str(a+b))\n",
    "    def sub(self,a,b):\n",
    "        print(\"The difference is \"+str(a-b))\n",
    "    def mul(self,a,b):\n",
    "        print(\"The product is \"+str(a*b))\n",
    "    def div(self,a,b):\n",
    "        print(\"The answer is \"+str(a/b))\n",
    "in1=int(input(\"enter 1st input\"))\n",
    "in2=int(input(\"enter 2nd input\"))\n",
    "op=input(\"enter the operator  \")\n",
    "cl=Calculator()        \n",
    "if(op==\"+\"):\n",
    "    cl.add(in1,in2)\n",
    "elif(op==\"-\"):\n",
    "    cl.sub(in1,in2)\n",
    "elif(op==\"*\"):\n",
    "    cl.mul(in1,in2)\n",
    "elif(op==\"/\"):\n",
    "    cl.div(in1,in2)\n",
    "else:\n",
    "    print(\"invalid operation\")"
   ]
  },
  {
   "cell_type": "markdown",
   "id": "5c68ab1f",
   "metadata": {},
   "source": [
    "3. Write a Python program to create a class that represents a shape. Include methods to calculate its area and perimeter. Implement subclasses for different shapes like circle, triangle, and square."
   ]
  },
  {
   "cell_type": "code",
   "execution_count": 4,
   "id": "6556bd44",
   "metadata": {},
   "outputs": [
    {
     "name": "stdout",
     "output_type": "stream",
     "text": [
      "enter radius 5\n",
      "area of circle is 78.53981633974483\n",
      "perimeter of circle is 31.41592653589793\n",
      "enter length  5\n",
      "enter breadth  6\n",
      "area of rectangle is 30\n",
      "perimeter of rectangle is 22\n",
      "enter base  10\n",
      "enter height  15\n",
      "enter 1st side 10\n",
      "enter 2nd side 20\n",
      "enter 3rd side 15\n",
      "area of triangle 75.0\n",
      "perimeter of triangle 45\n"
     ]
    }
   ],
   "source": [
    "import math\n",
    "class Shape():\n",
    "    def ar(self):\n",
    "        pass\n",
    "    def prm(self):\n",
    "        pass\n",
    "class Circle(Shape):\n",
    "    def __init__(self, r):\n",
    "        self.rad = r\n",
    "    def cr_ar(self):\n",
    "        ar=math.pi*self.rad**2\n",
    "        print(\"area of circle is \"+str(ar))\n",
    "    def cr_pr(self):\n",
    "        pr=2*math.pi*self.rad\n",
    "        print(\"perimeter of circle is \"+str(pr))\n",
    "        \n",
    "        \n",
    "class Rectangle(Shape):\n",
    "    def __init__(self, length, breadth):\n",
    "        self.length = length\n",
    "        self.breadth = breadth\n",
    "\n",
    "    def rec_ar(self):\n",
    "        r_ar=self.length * self.breadth\n",
    "        print(\"area of rectangle is \"+ str(r_ar))\n",
    "\n",
    "    def rec_pr(self):\n",
    "        r_pr=2 * (self.length + self.breadth)\n",
    "        print(\"perimeter of rectangle is \"+ str(r_pr))\n",
    "\n",
    "\n",
    "class Triangle(Shape):\n",
    "    def __init__(self, base, height, a,b,c):\n",
    "        self.base = base\n",
    "        self.height = height\n",
    "        self.a = a\n",
    "        self.b = b\n",
    "        self.c = c\n",
    "\n",
    "    def tri_area(self):\n",
    "        tr_ar=0.5 * self.base * self.height\n",
    "        print(\"area of triangle \"+str(tr_ar))\n",
    "\n",
    "    def tri_peri(self):\n",
    "        tr_pr=self.a + self.b + self.c\n",
    "        print(\"perimeter of triangle \"+str(tr_pr))\n",
    "\n",
    "#circle\n",
    "r=int(input(\"enter radius \"))\n",
    "c1 = Circle(r)\n",
    "c1.cr_ar()\n",
    "c1.cr_pr()\n",
    "\n",
    "#rectangle\n",
    "l = int(input(\"enter length  \"))\n",
    "b = int(input(\"enter breadth  \"))\n",
    "r1 = Rectangle(l,b)\n",
    "r1.rec_ar()\n",
    "r1.rec_pr()\n",
    "\n",
    "# triangle\n",
    "base =int(input(\"enter base  \"))\n",
    "height = int(input(\"enter height  \"))\n",
    "s1 = int(input(\"enter 1st side \"))\n",
    "s2 = int(input(\"enter 2nd side \"))\n",
    "s3 = int(input(\"enter 3rd side \"))\n",
    "tr = Triangle(base,height,s1,s2,s3)\n",
    "tr.tri_area()\n",
    "tr.tri_peri()"
   ]
  },
  {
   "cell_type": "code",
   "execution_count": null,
   "id": "973c63f2",
   "metadata": {},
   "outputs": [],
   "source": []
  }
 ],
 "metadata": {
  "kernelspec": {
   "display_name": "Python 3 (ipykernel)",
   "language": "python",
   "name": "python3"
  },
  "language_info": {
   "codemirror_mode": {
    "name": "ipython",
    "version": 3
   },
   "file_extension": ".py",
   "mimetype": "text/x-python",
   "name": "python",
   "nbconvert_exporter": "python",
   "pygments_lexer": "ipython3",
   "version": "3.11.2"
  }
 },
 "nbformat": 4,
 "nbformat_minor": 5
}
