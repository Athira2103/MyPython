{
 "cells": [
  {
   "cell_type": "markdown",
   "id": "64e98287",
   "metadata": {},
   "source": [
    "Write a Python program to sum all the items in a list"
   ]
  },
  {
   "cell_type": "code",
   "execution_count": 3,
   "id": "123680cd",
   "metadata": {},
   "outputs": [
    {
     "name": "stdout",
     "output_type": "stream",
     "text": [
      "the sum is : 227\n"
     ]
    }
   ],
   "source": [
    "list1=[15,56,25,46,85]\n",
    "sum=0\n",
    "for x in list1:\n",
    "    sum=sum+x\n",
    "print(\"the sum is : \"+str(sum))"
   ]
  },
  {
   "cell_type": "markdown",
   "id": "9e4ac6c5",
   "metadata": {},
   "source": [
    "Write a Python program to get the largest number from a list."
   ]
  },
  {
   "cell_type": "code",
   "execution_count": 5,
   "id": "a20d7614",
   "metadata": {},
   "outputs": [
    {
     "name": "stdout",
     "output_type": "stream",
     "text": [
      "85\n"
     ]
    }
   ],
   "source": [
    "list1.sort()\n",
    "print(list1[-1])"
   ]
  },
  {
   "cell_type": "markdown",
   "id": "3b957f52",
   "metadata": {},
   "source": [
    "Write a Python program to count the number of strings from a given list of strings. The string length is 2 or more and the first and last characters are the same."
   ]
  },
  {
   "cell_type": "code",
   "execution_count": 25,
   "id": "96b89731",
   "metadata": {},
   "outputs": [
    {
     "name": "stdout",
     "output_type": "stream",
     "text": [
      "total length of list : 4\n",
      "strings with same first and last letter : 2\n"
     ]
    }
   ],
   "source": [
    "list2=['abc', 'xyz', 'aba', '1221']\n",
    "print(\"total length of list : \"+str(len(list2)))\n",
    "cnt=0\n",
    "for e in list2:\n",
    "    if len(e)>2 and e[0]==e[-1]:\n",
    "        cnt=cnt+1\n",
    "print('strings with same first and last letter : '+str(cnt))"
   ]
  },
  {
   "cell_type": "markdown",
   "id": "ee9f35a9",
   "metadata": {},
   "source": [
    "Write a Python program to remove duplicates from a list."
   ]
  },
  {
   "cell_type": "code",
   "execution_count": 27,
   "id": "d7c3f0eb",
   "metadata": {},
   "outputs": [
    {
     "name": "stdout",
     "output_type": "stream",
     "text": [
      "[4, 5, '1221', 'aba', 'abc', 'xyz']\n"
     ]
    }
   ],
   "source": [
    "list2=['abc', 'xyz', 'aba', '1221','xyz', 5,4,5]\n",
    "list3=list(set(list2))\n",
    "print(list3)"
   ]
  },
  {
   "cell_type": "markdown",
   "id": "f1d4175a",
   "metadata": {},
   "source": [
    "Write a Python program to check if a list is empty or not."
   ]
  },
  {
   "cell_type": "code",
   "execution_count": 30,
   "id": "5456e710",
   "metadata": {},
   "outputs": [
    {
     "name": "stdout",
     "output_type": "stream",
     "text": [
      "list is empty\n"
     ]
    }
   ],
   "source": [
    "list4=[]\n",
    "if len(list4)==0:\n",
    "    print(\"list is empty\")\n",
    "else:\n",
    "    print(\"list is not empty\")"
   ]
  },
  {
   "cell_type": "markdown",
   "id": "42b11eb6",
   "metadata": {},
   "source": [
    "Write a Python program to filter the list if the length of the character is < 4"
   ]
  },
  {
   "cell_type": "code",
   "execution_count": 32,
   "id": "978e85e7",
   "metadata": {},
   "outputs": [
    {
     "name": "stdout",
     "output_type": "stream",
     "text": [
      "['abc', 'xyz', 'aba']\n"
     ]
    }
   ],
   "source": [
    "list2=['abc', 'xyz', 'aba', '1221']\n",
    "list3=[]\n",
    "for e in list2:\n",
    "    if(len(e)<4):\n",
    "        list3.append(e)        \n",
    "print(list3)\n"
   ]
  },
  {
   "cell_type": "markdown",
   "id": "264e31e6",
   "metadata": {},
   "source": [
    "Write a Python program to find the second largest number in a list."
   ]
  },
  {
   "cell_type": "code",
   "execution_count": 35,
   "id": "68b1d7c3",
   "metadata": {},
   "outputs": [
    {
     "name": "stdout",
     "output_type": "stream",
     "text": [
      "second largest number is : 88\n"
     ]
    }
   ],
   "source": [
    "list4=[15,56,25,46,85,97,88,72]\n",
    "list4.sort()\n",
    "print(\"second largest number is : \"+str(list4[-2]))\n"
   ]
  },
  {
   "cell_type": "markdown",
   "id": "d55f4419",
   "metadata": {},
   "source": [
    "Write a Python program to reverse a list at a specific location."
   ]
  },
  {
   "cell_type": "code",
   "execution_count": 47,
   "id": "2751070d",
   "metadata": {},
   "outputs": [
    {
     "data": {
      "text/plain": [
       "[97, 85, 46]"
      ]
     },
     "execution_count": 47,
     "metadata": {},
     "output_type": "execute_result"
    }
   ],
   "source": [
    "list4=[15,56,25,46,85,97,88,72]\n",
    "list4[5:2:-1]"
   ]
  },
  {
   "cell_type": "markdown",
   "id": "0ef705c0",
   "metadata": {},
   "source": [
    "Write a Python program to check if a list is a palindrome or not. Return true otherwise false."
   ]
  },
  {
   "cell_type": "code",
   "execution_count": 49,
   "id": "ec133559",
   "metadata": {},
   "outputs": [
    {
     "name": "stdout",
     "output_type": "stream",
     "text": [
      "list is palindrome\n"
     ]
    }
   ],
   "source": [
    "list4=[15,56,56,15]\n",
    "revlist=list4[::-1]\n",
    "if list4==revlist:\n",
    "    print(\"list is palindrome\")\n",
    "else:\n",
    "    print(\"list is not palindrome\")"
   ]
  },
  {
   "cell_type": "code",
   "execution_count": null,
   "id": "5a8a03c0",
   "metadata": {},
   "outputs": [],
   "source": [
    "Write a Python a program to find the union and intersection of two lists."
   ]
  },
  {
   "cell_type": "code",
   "execution_count": 52,
   "id": "0a5a418a",
   "metadata": {},
   "outputs": [
    {
     "name": "stdout",
     "output_type": "stream",
     "text": [
      "Union is : {0, 1, 2, 3, 4, 5, 6, 8}\n",
      "Intersection is : {2, 4}\n"
     ]
    }
   ],
   "source": [
    "s1 = {0, 2, 4, 6, 8};\n",
    "s2 = {1, 2, 3, 4, 5};\n",
    "print(\"Union is :\", s1 | s2)\n",
    "print(\"Intersection is :\", s1 & s2)"
   ]
  },
  {
   "cell_type": "markdown",
   "id": "29a9b672",
   "metadata": {},
   "source": [
    "Write a Python script to sort (ascending and descending) a dictionary by value"
   ]
  },
  {
   "cell_type": "code",
   "execution_count": 74,
   "id": "8bdff52d",
   "metadata": {},
   "outputs": [
    {
     "name": "stdout",
     "output_type": "stream",
     "text": [
      "ascending values\n",
      "[1, 3, 4, 5]\n",
      "descending values\n",
      "[('b', 5), ('c', 4), ('d', 3), ('a', 1)]\n"
     ]
    }
   ],
   "source": [
    "dict1={'a':1,'b':5,'c':4,'d':3}\n",
    "print(\"ascending values\")\n",
    "print(sorted(dict1.values()))\n",
    "print(\"descending values\")\n",
    "print(sorted(dict1.items(), key = lambda x: x[1],reverse=True))"
   ]
  },
  {
   "cell_type": "markdown",
   "id": "f9123836",
   "metadata": {},
   "source": [
    "Write a Python script to check whether a given key already exists in a dictionary."
   ]
  },
  {
   "cell_type": "code",
   "execution_count": 80,
   "id": "529418e3",
   "metadata": {},
   "outputs": [
    {
     "name": "stdout",
     "output_type": "stream",
     "text": [
      "enter a key to check : d\n",
      "the given key is present \n"
     ]
    }
   ],
   "source": [
    "dict1={'a':1,'b':5,'c':4,'d':3}\n",
    "ky=input(\"enter a key to check : \")\n",
    "if ky in dict1.keys():\n",
    "    print(\"the given key is present \")\n",
    "else:\n",
    "    print(\"doesnt contain the given key\")"
   ]
  },
  {
   "cell_type": "markdown",
   "id": "d6e9e45b",
   "metadata": {},
   "source": [
    "Write a Python program to sum all the values in a dictionary."
   ]
  },
  {
   "cell_type": "code",
   "execution_count": 99,
   "id": "479f41ea",
   "metadata": {},
   "outputs": [
    {
     "name": "stdout",
     "output_type": "stream",
     "text": [
      "13\n"
     ]
    }
   ],
   "source": [
    "dict1={'a':1,'b':5,'c':4,'d':3}\n",
    "sum = 0\n",
    "for i in dict1.values():\n",
    "    sum = sum + i \n",
    "print(sum)\n",
    "   "
   ]
  },
  {
   "cell_type": "markdown",
   "id": "ab65bc03",
   "metadata": {},
   "source": [
    "Write a Python program to create a dictionary with a number and its corresponding square from 1 to input number. And also check if the input number is less than 10\n"
   ]
  },
  {
   "cell_type": "code",
   "execution_count": 2,
   "id": "a7513b6a",
   "metadata": {},
   "outputs": [
    {
     "name": "stdout",
     "output_type": "stream",
     "text": [
      "enter a number less than 10 : 5\n",
      "{1: 1, 2: 4, 3: 9, 4: 16, 5: 25}\n"
     ]
    }
   ],
   "source": [
    "x=int(input(\"enter a number less than 10 : \"))\n",
    "dictnum = {}\n",
    "if x<10:\n",
    "    for i in range(1, x+1):\n",
    "        dictnum[i] = i * i\n",
    "    print(dictnum)\n",
    "else:\n",
    "    print(\"entered number is greater than 10\")\n"
   ]
  },
  {
   "cell_type": "markdown",
   "id": "21a7c750",
   "metadata": {},
   "source": [
    "Write a Python program to sort a given dictionary by key."
   ]
  },
  {
   "cell_type": "code",
   "execution_count": 7,
   "id": "9f8357ff",
   "metadata": {},
   "outputs": [
    {
     "name": "stdout",
     "output_type": "stream",
     "text": [
      "['a', 'c', 'x', 'z']\n"
     ]
    }
   ],
   "source": [
    "dict1={'a':1,'x':5,'c':4,'z':3}\n",
    "print(sorted(dict1.keys()))"
   ]
  },
  {
   "cell_type": "markdown",
   "id": "60cea773",
   "metadata": {},
   "source": [
    "Write a Python program to create a dictionary from a string."
   ]
  },
  {
   "cell_type": "code",
   "execution_count": 26,
   "id": "bb4c9e5b",
   "metadata": {},
   "outputs": [
    {
     "name": "stdout",
     "output_type": "stream",
     "text": [
      "{'l': 1, 'e': 1, 'a': 1, 'r': 1, 'n': 2, 'p': 1, 'y': 1, 't': 1, 'h': 1, 'o': 1}\n"
     ]
    }
   ],
   "source": [
    "wrd='learnpython'\n",
    "win_count_dict={}\n",
    "cnt=0\n",
    "for k in wrd:\n",
    "    if k in wrd:\n",
    "        cnt=wrd.count(k)\n",
    "        win_count_dict[k]=cnt\n",
    "print(win_count_dict)"
   ]
  },
  {
   "cell_type": "markdown",
   "id": "03c12c60",
   "metadata": {},
   "source": [
    "Write a Python program to get the top three items in a shop.\n",
    "Sample data: {'item1': 45.50, 'item2':35, 'item3': 41.30, 'item4':55, 'item5': 24}\n"
   ]
  },
  {
   "cell_type": "code",
   "execution_count": 57,
   "id": "6a4c356e",
   "metadata": {},
   "outputs": [
    {
     "name": "stdout",
     "output_type": "stream",
     "text": [
      "[55, 45.5, 41.3]\n",
      "item4 : 55\n",
      "item1 : 45.5\n",
      "item3 : 41.3\n"
     ]
    }
   ],
   "source": [
    "data= {'item1': 45.50, 'item2':35, 'item3': 41.30, 'item4':55, 'item5': 24}\n",
    "\n",
    "xl=list(data.values())\n",
    "xl.sort(reverse=True)\n",
    "x=xl[:3]\n",
    "for i in x:\n",
    "    for j in data.keys():\n",
    "        if(data[j]==i):\n",
    "            print(str(j)+\" : \"+str(data[j]))"
   ]
  },
  {
   "cell_type": "code",
   "execution_count": null,
   "id": "684112c0",
   "metadata": {},
   "outputs": [],
   "source": []
  },
  {
   "cell_type": "code",
   "execution_count": null,
   "id": "20811294",
   "metadata": {},
   "outputs": [],
   "source": []
  }
 ],
 "metadata": {
  "kernelspec": {
   "display_name": "Python 3 (ipykernel)",
   "language": "python",
   "name": "python3"
  },
  "language_info": {
   "codemirror_mode": {
    "name": "ipython",
    "version": 3
   },
   "file_extension": ".py",
   "mimetype": "text/x-python",
   "name": "python",
   "nbconvert_exporter": "python",
   "pygments_lexer": "ipython3",
   "version": "3.11.2"
  }
 },
 "nbformat": 4,
 "nbformat_minor": 5
}
