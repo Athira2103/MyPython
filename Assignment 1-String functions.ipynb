{
 "cells": [
  {
   "cell_type": "markdown",
   "id": "8adefea5",
   "metadata": {},
   "source": [
    "Assignment 1-String functions\n"
   ]
  },
  {
   "cell_type": "code",
   "execution_count": 2,
   "id": "62f046d3",
   "metadata": {},
   "outputs": [
    {
     "data": {
      "text/plain": [
       "'My task'"
      ]
     },
     "execution_count": 2,
     "metadata": {},
     "output_type": "execute_result"
    }
   ],
   "source": [
    "txt = \"my Task\"\n",
    "txt.capitalize()\n"
   ]
  },
  {
   "cell_type": "code",
   "execution_count": 3,
   "id": "d329f689",
   "metadata": {},
   "outputs": [
    {
     "data": {
      "text/plain": [
       "'MY TASK'"
      ]
     },
     "execution_count": 3,
     "metadata": {},
     "output_type": "execute_result"
    }
   ],
   "source": [
    "txt.upper()\n"
   ]
  },
  {
   "cell_type": "code",
   "execution_count": 4,
   "id": "37710d79",
   "metadata": {},
   "outputs": [
    {
     "data": {
      "text/plain": [
       "'my task'"
      ]
     },
     "execution_count": 4,
     "metadata": {},
     "output_type": "execute_result"
    }
   ],
   "source": [
    "txt.lower()\n"
   ]
  },
  {
   "cell_type": "code",
   "execution_count": 5,
   "id": "41e319e7",
   "metadata": {},
   "outputs": [
    {
     "data": {
      "text/plain": [
       "'My Task'"
      ]
     },
     "execution_count": 5,
     "metadata": {},
     "output_type": "execute_result"
    }
   ],
   "source": [
    "txt.title()\n"
   ]
  },
  {
   "cell_type": "code",
   "execution_count": 6,
   "id": "2fa07276",
   "metadata": {},
   "outputs": [
    {
     "data": {
      "text/plain": [
       "False"
      ]
     },
     "execution_count": 6,
     "metadata": {},
     "output_type": "execute_result"
    }
   ],
   "source": [
    "txt.isalpha()\n"
   ]
  },
  {
   "cell_type": "code",
   "execution_count": 7,
   "id": "05467320",
   "metadata": {},
   "outputs": [
    {
     "data": {
      "text/plain": [
       "False"
      ]
     },
     "execution_count": 7,
     "metadata": {},
     "output_type": "execute_result"
    }
   ],
   "source": [
    "txt.isnumeric()\n"
   ]
  },
  {
   "cell_type": "code",
   "execution_count": 8,
   "id": "92e897fd",
   "metadata": {},
   "outputs": [
    {
     "data": {
      "text/plain": [
       "'first Task'"
      ]
     },
     "execution_count": 8,
     "metadata": {},
     "output_type": "execute_result"
    }
   ],
   "source": [
    "txt.replace('my', 'first')\n"
   ]
  },
  {
   "cell_type": "code",
   "execution_count": 9,
   "id": "446deae2",
   "metadata": {},
   "outputs": [
    {
     "data": {
      "text/plain": [
       "['my', 'Task']"
      ]
     },
     "execution_count": 9,
     "metadata": {},
     "output_type": "execute_result"
    }
   ],
   "source": [
    "txt.split()\n"
   ]
  },
  {
   "cell_type": "code",
   "execution_count": 10,
   "id": "2458e097",
   "metadata": {},
   "outputs": [
    {
     "data": {
      "text/plain": [
       "[' python is simple', 'easy to learn {}']"
      ]
     },
     "execution_count": 10,
     "metadata": {},
     "output_type": "execute_result"
    }
   ],
   "source": [
    "wrd=\" python is simple,easy to learn {}\"\n",
    "wrd.split(',')\n"
   ]
  },
  {
   "cell_type": "code",
   "execution_count": 12,
   "id": "833f79eb",
   "metadata": {},
   "outputs": [
    {
     "data": {
      "text/plain": [
       "'python is simple,easy to learn {}'"
      ]
     },
     "execution_count": 12,
     "metadata": {},
     "output_type": "execute_result"
    }
   ],
   "source": [
    "wrd.strip( )\n"
   ]
  },
  {
   "cell_type": "code",
   "execution_count": 13,
   "id": "8919daa8",
   "metadata": {},
   "outputs": [
    {
     "data": {
      "text/plain": [
       "' python is simple,easy to learn enjoy'"
      ]
     },
     "execution_count": 13,
     "metadata": {},
     "output_type": "execute_result"
    }
   ],
   "source": [
    "wrd.format('enjoy')\n"
   ]
  },
  {
   "cell_type": "code",
   "execution_count": 14,
   "id": "3fd47dbd",
   "metadata": {},
   "outputs": [
    {
     "data": {
      "text/plain": [
       "True"
      ]
     },
     "execution_count": 14,
     "metadata": {},
     "output_type": "execute_result"
    }
   ],
   "source": [
    "wd=\"alpha23\"\n",
    "wd.isalnum()\n"
   ]
  },
  {
   "cell_type": "code",
   "execution_count": 15,
   "id": "8dbbd4e2",
   "metadata": {},
   "outputs": [
    {
     "data": {
      "text/plain": [
       "2"
      ]
     },
     "execution_count": 15,
     "metadata": {},
     "output_type": "execute_result"
    }
   ],
   "source": [
    "wd.index('p')\n"
   ]
  },
  {
   "cell_type": "code",
   "execution_count": 17,
   "id": "989b3422",
   "metadata": {},
   "outputs": [
    {
     "data": {
      "text/plain": [
       "7"
      ]
     },
     "execution_count": 17,
     "metadata": {},
     "output_type": "execute_result"
    }
   ],
   "source": [
    "len(wd)\n",
    "\n"
   ]
  },
  {
   "cell_type": "code",
   "execution_count": 18,
   "id": "a2bde6e3",
   "metadata": {},
   "outputs": [
    {
     "data": {
      "text/plain": [
       "'2'"
      ]
     },
     "execution_count": 18,
     "metadata": {},
     "output_type": "execute_result"
    }
   ],
   "source": [
    "wd[5]\n"
   ]
  },
  {
   "cell_type": "code",
   "execution_count": 19,
   "id": "cc0adede",
   "metadata": {},
   "outputs": [
    {
     "data": {
      "text/plain": [
       "'pha'"
      ]
     },
     "execution_count": 19,
     "metadata": {},
     "output_type": "execute_result"
    }
   ],
   "source": [
    "wd[2:5]\n"
   ]
  },
  {
   "cell_type": "code",
   "execution_count": 20,
   "id": "c576442f",
   "metadata": {},
   "outputs": [
    {
     "data": {
      "text/plain": [
       "'32ahpla'"
      ]
     },
     "execution_count": 20,
     "metadata": {},
     "output_type": "execute_result"
    }
   ],
   "source": [
    "wd[::-1]"
   ]
  },
  {
   "cell_type": "code",
   "execution_count": null,
   "id": "fed6d38d",
   "metadata": {},
   "outputs": [],
   "source": []
  }
 ],
 "metadata": {
  "kernelspec": {
   "display_name": "Python 3 (ipykernel)",
   "language": "python",
   "name": "python3"
  },
  "language_info": {
   "codemirror_mode": {
    "name": "ipython",
    "version": 3
   },
   "file_extension": ".py",
   "mimetype": "text/x-python",
   "name": "python",
   "nbconvert_exporter": "python",
   "pygments_lexer": "ipython3",
   "version": "3.11.2"
  }
 },
 "nbformat": 4,
 "nbformat_minor": 5
}
