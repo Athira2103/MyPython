{
 "cells": [
  {
   "cell_type": "markdown",
   "id": "e83b165a",
   "metadata": {},
   "source": [
    "#### Write a Python program to find those numbers which are divisible by 7 and multiples of 5, for user input\n"
   ]
  },
  {
   "cell_type": "code",
   "execution_count": 3,
   "id": "7c0b8e8e",
   "metadata": {},
   "outputs": [
    {
     "name": "stdout",
     "output_type": "stream",
     "text": [
      "enter input 35\n",
      "35 is divisible by 7 and multiple of 5\n"
     ]
    }
   ],
   "source": [
    "a=int(input(\"enter input \"))\n",
    "if (a%7==0) and (a%5==0):\n",
    "    print(str(a)+\" is divisible by 7 and multiple of 5\")\n",
    "else:\n",
    "    print(str(a)+\" is not divisible by 7 and multiple of 5\")\n",
    "          "
   ]
  },
  {
   "cell_type": "markdown",
   "id": "06af78be",
   "metadata": {},
   "source": [
    "#### write a python pgm to check the user input is even or odd or Zero"
   ]
  },
  {
   "cell_type": "code",
   "execution_count": 5,
   "id": "177ed06c",
   "metadata": {},
   "outputs": [
    {
     "name": "stdout",
     "output_type": "stream",
     "text": [
      "enter input33\n",
      "the number is odd\n"
     ]
    }
   ],
   "source": [
    "a=int(input(\"enter input\"))\n",
    "if (a==0):\n",
    "    print(\"Entered number is zero\")\n",
    "elif(a%2==0):\n",
    "    print(str(a)+\" is even\")\n",
    "else:\n",
    "    print(\"the number is odd\")"
   ]
  },
  {
   "cell_type": "markdown",
   "id": "b392271b",
   "metadata": {},
   "source": [
    "#### print decimal part of an input number. If the decimal part is zero print this string: \"INTEGER\".\n"
   ]
  },
  {
   "cell_type": "code",
   "execution_count": null,
   "id": "cf03f3de",
   "metadata": {},
   "outputs": [],
   "source": [
    "x=float(input(\"enter a value \"))\n",
    "if x%1==0:\n",
    "    print(\"integer\")\n",
    "else:\n",
    "    print(\"float value\")"
   ]
  },
  {
   "cell_type": "code",
   "execution_count": 4,
   "id": "432afc20",
   "metadata": {},
   "outputs": [
    {
     "name": "stdout",
     "output_type": "stream",
     "text": [
      "enter a value5.33333666\n",
      "the decimal part is 0.33\n",
      "float value\n"
     ]
    }
   ],
   "source": [
    "x=float(input(\"enter a value\"))\n",
    "a=x%1\n",
    "if a==0:\n",
    "    print(\"the decimal part is\",round(a))\n",
    "    print(\"integer\")\n",
    "else:\n",
    "    print(\"the decimal part is\",round(a,2))\n",
    "    print(\"float value\")"
   ]
  },
  {
   "cell_type": "code",
   "execution_count": null,
   "id": "50a82bb6",
   "metadata": {},
   "outputs": [],
   "source": []
  },
  {
   "cell_type": "code",
   "execution_count": null,
   "id": "49e41d95",
   "metadata": {},
   "outputs": [],
   "source": []
  },
  {
   "cell_type": "code",
   "execution_count": null,
   "id": "4b92a3ba",
   "metadata": {},
   "outputs": [],
   "source": []
  },
  {
   "cell_type": "code",
   "execution_count": null,
   "id": "a18fa7ab",
   "metadata": {},
   "outputs": [],
   "source": []
  }
 ],
 "metadata": {
  "kernelspec": {
   "display_name": "Python 3 (ipykernel)",
   "language": "python",
   "name": "python3"
  },
  "language_info": {
   "codemirror_mode": {
    "name": "ipython",
    "version": 3
   },
   "file_extension": ".py",
   "mimetype": "text/x-python",
   "name": "python",
   "nbconvert_exporter": "python",
   "pygments_lexer": "ipython3",
   "version": "3.11.2"
  }
 },
 "nbformat": 4,
 "nbformat_minor": 5
}
